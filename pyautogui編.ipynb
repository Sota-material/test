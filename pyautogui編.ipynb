{
 "cells": [
  {
   "cell_type": "code",
   "execution_count": null,
   "metadata": {},
   "outputs": [],
   "source": [
    "!"
   ]
  },
  {
   "cell_type": "code",
   "execution_count": 2,
   "metadata": {},
   "outputs": [],
   "source": [
    "import pyautogui as pag\n",
    "import time\n",
    "import os\n",
    "import datetime\n",
    "import img2pdf\n",
    "from PIL import Image"
   ]
  },
  {
   "cell_type": "code",
   "execution_count": null,
   "metadata": {},
   "outputs": [],
   "source": [
    "pag.pouse = 0.1\n",
    "# ページ数\n",
    "page = 300   #←変更必要\n",
    "# スクショ間隔(秒)\n",
    "span = 0.1\n",
    "# 出力フォルダ頭文字\n",
    "h_foldername = \"output\"\n",
    "# 出力ファイル頭文字\n",
    "h_filename = \"picture\"\n",
    "\n",
    "# 取得範囲：左上座標\n",
    "x1, y1 = 580, 0 #\"キャプチャする座標の取得\"を元に修正する\n",
    "# 取得範囲：右下座様\n",
    "x2, y2 = 1340, 1080 #\"キャプチャする座標の取得\"を元に修正する\n",
    "\n",
    "pag.moveTo(1920,540, 3,pag.easeOutQuad)\n",
    "\n",
    "# 出力フォルダ作成(フォルダ名：頭文字_年月日時分秒)\n",
    "folder_name = h_foldername + \"_\" + str(datetime.datetime.now().strftime(\"%Y%m%d%H%M%S\"))\n",
    "os.mkdir(folder_name)\n",
    "\n",
    "# スクショ処理\n",
    "for p in range(page):\n",
    "    # 出力ファイル名(頭文字_連番.png)\n",
    "    out_filename = h_filename + \"_\" + str(p+1).zfill(4) + '.png'\n",
    "    # 画面全体のスクリーンショット\n",
    "    s = pag.screenshot(region=(x1, y1, x2-x1, y2-y1))\n",
    "    # 出力パス： 出力フォルダ名 / 出力ファイル名\n",
    "    s.save(folder_name + \"/\" + out_filename)\n",
    "    # 次のページ\n",
    "    \n",
    "    pag.click(x = 1920,y = 540)\n",
    "    #pyautogui.keyDown('right')\n",
    "    #pyautogui.keyUp('right')\n",
    "    # 画面の動作待ち\n",
    "    time.sleep(span)"
   ]
  },
  {
   "cell_type": "code",
   "execution_count": null,
   "metadata": {},
   "outputs": [],
   "source": [
    "path = \"C:/Users/sd19080/Downloads/output_20220907185838\"\n",
    "files = glob.glob(path + \"/*.png\")\n",
    "\n",
    "match = re.compile(\"(png)\")\n",
    "\n",
    "for file_name in files:\n",
    "    im = Image.open(file_name)\n",
    "    im = im.convert(\"RGB\")\n",
    "\n",
    "    new_file_name = match.sub(\"jpeg\", file_name)\n",
    "    os.remove(file_name)\n",
    "    im.save(new_file_name, quality=100)\n",
    "\n",
    "    print(file_name + \" convert is completed\")"
   ]
  },
  {
   "cell_type": "code",
   "execution_count": 7,
   "metadata": {},
   "outputs": [
    {
     "ename": "ValueError",
     "evalue": "Unable to process empty list",
     "output_type": "error",
     "traceback": [
      "\u001b[1;31m---------------------------------------------------------------------------\u001b[0m",
      "\u001b[1;31mValueError\u001b[0m                                Traceback (most recent call last)",
      "\u001b[1;32m<ipython-input-7-0dd08d4e5571>\u001b[0m in \u001b[0;36m<module>\u001b[1;34m\u001b[0m\n\u001b[0;32m      9\u001b[0m     f.write(\n\u001b[0;32m     10\u001b[0m         img2pdf.convert(\n\u001b[1;32m---> 11\u001b[1;33m             [Image.open(png_Folder+j).filename for j in os.listdir(png_Folder)\n\u001b[0m\u001b[0;32m     12\u001b[0m              if j.endswith(extension)]\n\u001b[0;32m     13\u001b[0m         )\n",
      "\u001b[1;32m~\\Anaconda3\\lib\\site-packages\\img2pdf.py\u001b[0m in \u001b[0;36mconvert\u001b[1;34m(*images, **kwargs)\u001b[0m\n\u001b[0;32m   2318\u001b[0m     \u001b[1;32melse\u001b[0m\u001b[1;33m:\u001b[0m\u001b[1;33m\u001b[0m\u001b[1;33m\u001b[0m\u001b[0m\n\u001b[0;32m   2319\u001b[0m         \u001b[1;32mif\u001b[0m \u001b[0mlen\u001b[0m\u001b[1;33m(\u001b[0m\u001b[0mimages\u001b[0m\u001b[1;33m)\u001b[0m \u001b[1;33m==\u001b[0m \u001b[1;36m0\u001b[0m\u001b[1;33m:\u001b[0m\u001b[1;33m\u001b[0m\u001b[1;33m\u001b[0m\u001b[0m\n\u001b[1;32m-> 2320\u001b[1;33m             \u001b[1;32mraise\u001b[0m \u001b[0mValueError\u001b[0m\u001b[1;33m(\u001b[0m\u001b[1;34m\"Unable to process empty list\"\u001b[0m\u001b[1;33m)\u001b[0m\u001b[1;33m\u001b[0m\u001b[1;33m\u001b[0m\u001b[0m\n\u001b[0m\u001b[0;32m   2321\u001b[0m \u001b[1;33m\u001b[0m\u001b[0m\n\u001b[0;32m   2322\u001b[0m     \u001b[1;32mfor\u001b[0m \u001b[0mimg\u001b[0m \u001b[1;32min\u001b[0m \u001b[0mimages\u001b[0m\u001b[1;33m:\u001b[0m\u001b[1;33m\u001b[0m\u001b[1;33m\u001b[0m\u001b[0m\n",
      "\u001b[1;31mValueError\u001b[0m: Unable to process empty list"
     ]
    }
   ],
   "source": [
    "# img2pdfと一緒にインストールされたPillowを使います\n",
    "path = \"C:/Users/sd19080/Downloads/output_20220907185838\"\n",
    "pdf_FileName = \"C:/Users/sd19080/Downloads/output.pdf\" # 出力するPDFの名前\n",
    "png_Folder = path # 画像フォルダ\n",
    "extension  = \".jpng\" # 拡張子がPNGのものを対象\n",
    "\n",
    "with open(pdf_FileName,\"wb\") as f:\n",
    "# 画像フォルダの中にあるPNGファイルを取得し配列に追加、バイナリ形式でファイルに書き込む\n",
    "    f.write(\n",
    "        img2pdf.convert(\n",
    "            [Image.open(png_Folder+j).filename for j in os.listdir(png_Folder)\n",
    "             if j.endswith(extension)]))"
   ]
  },
  {
   "cell_type": "code",
   "execution_count": null,
   "metadata": {},
   "outputs": [],
   "source": [
    "import os\n",
    "cwd = os.getcwd()\n",
    "print(cwd)"
   ]
  },
  {
   "cell_type": "code",
   "execution_count": null,
   "metadata": {},
   "outputs": [],
   "source": [
    "print(os.listdir(path))\n",
    "print(os.listdir(path).endswith('jpeg'))"
   ]
  },
  {
   "cell_type": "code",
   "execution_count": null,
   "metadata": {},
   "outputs": [],
   "source": [
    "#response = requests.get(url)\n",
    "import io\n",
    "for i in os.listdir(path):\n",
    "    #print(i)\n",
    "    img = Image.open(i)\n",
    "\n",
    "    plt.imshow(img)"
   ]
  },
  {
   "cell_type": "code",
   "execution_count": null,
   "metadata": {},
   "outputs": [],
   "source": [
    "import img2pdf\n",
    "\n",
    "with open(\"output.pdf\",\"wb\") as f:\n",
    "    f.write(img2pdf.convert(['picture_0002.jpeg', 'picture_0002.jpeg']))"
   ]
  },
  {
   "cell_type": "code",
   "execution_count": 1,
   "metadata": {},
   "outputs": [
    {
     "ename": "TypeError",
     "evalue": "a bytes-like object is required, not 'str'",
     "output_type": "error",
     "traceback": [
      "\u001b[1;31m---------------------------------------------------------------------------\u001b[0m",
      "\u001b[1;31mTypeError\u001b[0m                                 Traceback (most recent call last)",
      "\u001b[1;32m<ipython-input-1-726dd5fcdeb7>\u001b[0m in \u001b[0;36m<module>\u001b[1;34m\u001b[0m\n\u001b[0;32m      7\u001b[0m \u001b[1;33m\u001b[0m\u001b[0m\n\u001b[0;32m      8\u001b[0m \u001b[1;32mwith\u001b[0m \u001b[0mopen\u001b[0m\u001b[1;33m(\u001b[0m\u001b[0mpdf_file_name\u001b[0m\u001b[1;33m,\u001b[0m \u001b[1;34m\"wb\"\u001b[0m\u001b[1;33m)\u001b[0m \u001b[1;32mas\u001b[0m \u001b[0mf\u001b[0m\u001b[1;33m:\u001b[0m\u001b[1;33m\u001b[0m\u001b[1;33m\u001b[0m\u001b[0m\n\u001b[1;32m----> 9\u001b[1;33m     \u001b[0mf\u001b[0m\u001b[1;33m.\u001b[0m\u001b[0mwrite\u001b[0m\u001b[1;33m(\u001b[0m\u001b[0mimg2pdf\u001b[0m\u001b[1;33m.\u001b[0m\u001b[0mconvert\u001b[0m\u001b[1;33m(\u001b[0m\u001b[1;33m[\u001b[0m\u001b[0mi\u001b[0m \u001b[1;32mfor\u001b[0m \u001b[0mi\u001b[0m \u001b[1;32min\u001b[0m \u001b[0mos\u001b[0m\u001b[1;33m.\u001b[0m\u001b[0mlistdir\u001b[0m\u001b[1;33m(\u001b[0m\u001b[0mpath\u001b[0m\u001b[1;33m)\u001b[0m \u001b[1;32mif\u001b[0m \u001b[0mi\u001b[0m\u001b[1;33m.\u001b[0m\u001b[0mendswith\u001b[0m\u001b[1;33m(\u001b[0m\u001b[0mext\u001b[0m\u001b[1;33m)\u001b[0m\u001b[1;33m]\u001b[0m\u001b[1;33m)\u001b[0m\u001b[1;33m)\u001b[0m\u001b[1;33m\u001b[0m\u001b[1;33m\u001b[0m\u001b[0m\n\u001b[0m",
      "\u001b[1;32m~\\Anaconda3\\lib\\site-packages\\img2pdf.py\u001b[0m in \u001b[0;36mconvert\u001b[1;34m(*images, **kwargs)\u001b[0m\n\u001b[0;32m   2362\u001b[0m             \u001b[0mkwargs\u001b[0m\u001b[1;33m[\u001b[0m\u001b[1;34m\"colorspace\"\u001b[0m\u001b[1;33m]\u001b[0m\u001b[1;33m,\u001b[0m\u001b[1;33m\u001b[0m\u001b[1;33m\u001b[0m\u001b[0m\n\u001b[0;32m   2363\u001b[0m             \u001b[0mkwargs\u001b[0m\u001b[1;33m[\u001b[0m\u001b[1;34m\"first_frame_only\"\u001b[0m\u001b[1;33m]\u001b[0m\u001b[1;33m,\u001b[0m\u001b[1;33m\u001b[0m\u001b[1;33m\u001b[0m\u001b[0m\n\u001b[1;32m-> 2364\u001b[1;33m             \u001b[0mkwargs\u001b[0m\u001b[1;33m[\u001b[0m\u001b[1;34m\"rotation\"\u001b[0m\u001b[1;33m]\u001b[0m\u001b[1;33m,\u001b[0m\u001b[1;33m\u001b[0m\u001b[1;33m\u001b[0m\u001b[0m\n\u001b[0m\u001b[0;32m   2365\u001b[0m         ):\n\u001b[0;32m   2366\u001b[0m             pagewidth, pageheight, imgwidthpdf, imgheightpdf = kwargs[\"layout_fun\"](\n",
      "\u001b[1;32m~\\Anaconda3\\lib\\site-packages\\img2pdf.py\u001b[0m in \u001b[0;36mread_images\u001b[1;34m(rawdata, colorspace, first_frame_only, rot)\u001b[0m\n\u001b[0;32m   1535\u001b[0m \u001b[1;33m\u001b[0m\u001b[0m\n\u001b[0;32m   1536\u001b[0m \u001b[1;32mdef\u001b[0m \u001b[0mread_images\u001b[0m\u001b[1;33m(\u001b[0m\u001b[0mrawdata\u001b[0m\u001b[1;33m,\u001b[0m \u001b[0mcolorspace\u001b[0m\u001b[1;33m,\u001b[0m \u001b[0mfirst_frame_only\u001b[0m\u001b[1;33m=\u001b[0m\u001b[1;32mFalse\u001b[0m\u001b[1;33m,\u001b[0m \u001b[0mrot\u001b[0m\u001b[1;33m=\u001b[0m\u001b[1;32mNone\u001b[0m\u001b[1;33m)\u001b[0m\u001b[1;33m:\u001b[0m\u001b[1;33m\u001b[0m\u001b[1;33m\u001b[0m\u001b[0m\n\u001b[1;32m-> 1537\u001b[1;33m     \u001b[0mim\u001b[0m \u001b[1;33m=\u001b[0m \u001b[0mBytesIO\u001b[0m\u001b[1;33m(\u001b[0m\u001b[0mrawdata\u001b[0m\u001b[1;33m)\u001b[0m\u001b[1;33m\u001b[0m\u001b[1;33m\u001b[0m\u001b[0m\n\u001b[0m\u001b[0;32m   1538\u001b[0m     \u001b[0mim\u001b[0m\u001b[1;33m.\u001b[0m\u001b[0mseek\u001b[0m\u001b[1;33m(\u001b[0m\u001b[1;36m0\u001b[0m\u001b[1;33m)\u001b[0m\u001b[1;33m\u001b[0m\u001b[1;33m\u001b[0m\u001b[0m\n\u001b[0;32m   1539\u001b[0m     \u001b[0mimgdata\u001b[0m \u001b[1;33m=\u001b[0m \u001b[1;32mNone\u001b[0m\u001b[1;33m\u001b[0m\u001b[1;33m\u001b[0m\u001b[0m\n",
      "\u001b[1;31mTypeError\u001b[0m: a bytes-like object is required, not 'str'"
     ]
    }
   ],
   "source": [
    "import img2pdf\n",
    "import os\n",
    "\n",
    "pdf_file_name = \"output.pdf\"\n",
    "path = \"C:/Users/sd19080/Downloads/output_20220907185838\"\n",
    "ext  = \".jpeg\"\n",
    "\n",
    "with open(pdf_file_name, \"wb\") as f:\n",
    "    f.write(img2pdf.convert([i for i in os.listdir(path) if i.endswith(ext)]))"
   ]
  },
  {
   "cell_type": "code",
   "execution_count": null,
   "metadata": {},
   "outputs": [],
   "source": [
    "time.sleep(1)\n",
    "print(pyautogui.position())"
   ]
  },
  {
   "cell_type": "code",
   "execution_count": null,
   "metadata": {},
   "outputs": [],
   "source": [
    "# １秒待機\n",
    "time.sleep(1)\n",
    "pyautogui.keyUp('right')"
   ]
  },
  {
   "cell_type": "code",
   "execution_count": null,
   "metadata": {},
   "outputs": [],
   "source": [
    "pag.pouse = 2\n",
    "#pag.FAILSAFE = False\n",
    "pag.moveTo(1920,540, 0.1,pag.easeOutQuad)\n",
    "pag.click(x = 1920,y = 540)"
   ]
  },
  {
   "cell_type": "code",
   "execution_count": null,
   "metadata": {},
   "outputs": [],
   "source": [
    "import pyautogui as pag \n",
    "pag.moveTo(580,0,3,pag.easeOutQuad)\n",
    "pag.moveTo(1340,1080,3,pag.easeOutQuad)"
   ]
  },
  {
   "cell_type": "markdown",
   "metadata": {},
   "source": [
    "# Python GUI自働化 \n",
    "## pyautogui"
   ]
  },
  {
   "cell_type": "code",
   "execution_count": null,
   "metadata": {},
   "outputs": [],
   "source": [
    "import pyautogui as pag"
   ]
  },
  {
   "cell_type": "code",
   "execution_count": null,
   "metadata": {},
   "outputs": [],
   "source": [
    "import pyautogui as pag\n",
    "\n",
    "x, y = pag.position()\n",
    "print(\" 解像度{0}\". format(pag.size()))"
   ]
  },
  {
   "cell_type": "code",
   "execution_count": null,
   "metadata": {},
   "outputs": [],
   "source": [
    "# -* - coding: utf-8 -*- \n",
    "import pyautogui as pag # GUI 操作毎のポーズ秒数 \n",
    "pag.PAUSE = 2.5\n",
    "\n",
    "x, y = (300, 300)\n",
    "pag.moveTo(x,y) \n",
    "print(\" moveTo メソッド で マウス 位置{0} に 移動\".format((x,y)))\n",
    "print(\" 画面上にマウス位置は{0}」\".format( \"ある\" if pag.onScreen(x,y) else \"ない\")) \n",
    "print(\" position メソッド の 返り 値 : {0}\".format(pag.position())) \n",
    "\n",
    "x, y = (1000000, 300) \n",
    "print(\" moveTo メソッド で マウス 位置{0} に 移動\". format((x,y))) \n",
    "pag. moveTo(x,y) \n",
    "print(\" 画面 上 に マウス 位置 は「{0}」\".format( \"ある\" if pag.onScreen(x,y) else \"ない\")) \n",
    "print(\" position メソッド の 返り 値 :{0}\".format(pag.position()))\n",
    "\n",
    "x, y = (300, 1000000)\n",
    "print(\" moveTo メソッド で マウス 位置{0} に 移動\". format((x,y))) \n",
    "pag.moveTo(x,y) \n",
    "print(\" 画面 上 に マウス 位置 は「{0}」\".format( \"ある\" if pag.onScreen(x,y) else \"ない\")) \n",
    "print(\" position メソッド の 返り 値 : {0}\".format(pag.position())) \n",
    "\n",
    "pag.FAILSAFE = False\n",
    "\n",
    "x, y = (1000000,1000000) \n",
    "print(\" moveTo メソッド で マウス 位置{0} に 移動\". format((x,y))) \n",
    "pag.moveTo(x,y) \n",
    "print(\" 画面上にマウス位置は{0}」\".format(\"ある\" if pag.onScreen(x,y) else \"ない\")) \n",
    "print(\" positionメソッドの返り値 : {0}\".format(pag.position()))\n"
   ]
  },
  {
   "cell_type": "code",
   "execution_count": null,
   "metadata": {},
   "outputs": [],
   "source": [
    "pag. PAUSE = 2.5 \n",
    "pag.FAILSAFE = True\n",
    "print(\"2.5秒以内にマウスカーソルを一番左上端に持っていってください\") \n",
    "pag.moveTo(100,100) \n",
    "pag.moveTo(500,500)"
   ]
  },
  {
   "cell_type": "code",
   "execution_count": null,
   "metadata": {},
   "outputs": [],
   "source": [
    "pag.moveTo?"
   ]
  },
  {
   "cell_type": "code",
   "execution_count": null,
   "metadata": {},
   "outputs": [],
   "source": [
    "# -* - coding: utf-8 -*- \n",
    "import pyautogui as pag #GUI操作毎のポーズ秒数 \n",
    "\n",
    "pag.PAUSE = 2.5 #マウスの移動 \n",
    "pag.moveTo(100,100) \n",
    "print(\" position{0}\".format(pag. position()))\n",
    "\n",
    "#2秒かけて移動 \n",
    "pag.moveTo(200,200,2) \n",
    "print(\"position{0}\".format(pag.position())) \n",
    "\n",
    "# 3.5 秒かけてXのみ移動 \n",
    "pag.moveTo(500,None,3.5) \n",
    "print(\"position{0}\".format(pag.position())) \n",
    "\n",
    "# 定義されている移動時間の最小値 \n",
    "print(\"pyautogui.MINIMUM_ DURATION:{0}\".format(pag.MINIMUM_DURATION)) \n",
    "\n",
    "# Y のみ移動、移動時間を最小値以下にした場合は最小値になる\n",
    "pag.moveTo(None,500,0.005) \n",
    "print(\"position{0}\".format(pag.position()))\n",
    "\n",
    "# 開始は遅く、終了は早い\n",
    "print(\"pyautogui.easeInQuad\") \n",
    "pag.moveTo(None,100,5,pag.easeInQuad) \n",
    "\n",
    "# 開始は早く、終了は遅い \n",
    "print(\" pyautogui.easeOutQuad\") \n",
    "pag.moveTo(100,None,5,pag.easeOutQuad)\n",
    "\n",
    "# 開始と終了は早く、途中は遅い\n",
    "print(\"pyautogui.easeInOutQuad\") \n",
    "pag.moveTo(None,500,5,pag.easeInOutQuad) \n",
    "\n",
    "# 終了の時にバウンド する \n",
    "print(\"pyautogui.easeInBounce\") \n",
    "pag.moveTo(500,None,5,pag.easeInBounce) \n",
    "\n",
    "# 終了の時に輪ゴムを伸ばして離したような動き \n",
    "print(\" pyautogui.easeInElastic\") \n",
    "pag.moveTo(100,100,5,pag.easeInElastic)\n",
    "\n",
    "# 極端に大きな値を与えた後でpositionメソッドにより取得した座標に\n",
    "#1を足して解像度を取得(本来はsizeメソッドを使うべきですが検証という事で)\n",
    "pag.moveTo(1000000,1000000) \n",
    "x, y = pag.position() \n",
    "print(\" 解像度:{w}x{h}\".format(w = x + 1, h = y + 1))"
   ]
  },
  {
   "cell_type": "code",
   "execution_count": null,
   "metadata": {},
   "outputs": [],
   "source": [
    "import pyautogui as pag # GUI操作毎のポーズ秒数 \n",
    "pag.PAUSE = 2.5 #画面サイズを取得 \n",
    "w, h = pag.size() \n",
    "print(\"とりあえず真ん中に移動\") \n",
    "pag.moveTo(w/2,h/2) \n",
    "print(\"position{0}\".format(pag.position())) \n",
    "print(\"上に画面高さ4分の1分移動する\") \n",
    "pag.moveRel(None,-(h/4),3) \n",
    "print(\" position{0}\".format(pag.position())) \n",
    "print(\"左に画面幅4分の1移動分移動する\") \n",
    "pag.moveRel(-(w/4),None,3)"
   ]
  },
  {
   "cell_type": "code",
   "execution_count": null,
   "metadata": {},
   "outputs": [],
   "source": [
    "import pyautogui as pag \n",
    "# GUI 操作 毎 の ポーズ 秒 数 \n",
    "pag.PAUSE = 2.5 # 画面 サイズ を 取得 \n",
    "w, h = pag. size()\n",
    "\n",
    "print(w,h)"
   ]
  },
  {
   "cell_type": "code",
   "execution_count": null,
   "metadata": {},
   "outputs": [],
   "source": [
    "# 右下座標を取得\n",
    "print('3秒以内にキャプチャ範囲の右下座標にマウスカーソルを合わせてください')\n",
    "time.sleep(3)\n",
    "print('右下座標：' + str(pyautogui.position()))"
   ]
  },
  {
   "cell_type": "code",
   "execution_count": null,
   "metadata": {},
   "outputs": [],
   "source": []
  },
  {
   "cell_type": "code",
   "execution_count": null,
   "metadata": {},
   "outputs": [],
   "source": []
  }
 ],
 "metadata": {
  "kernelspec": {
   "display_name": "Python 3",
   "language": "python",
   "name": "python3"
  },
  "language_info": {
   "codemirror_mode": {
    "name": "ipython",
    "version": 3
   },
   "file_extension": ".py",
   "mimetype": "text/x-python",
   "name": "python",
   "nbconvert_exporter": "python",
   "pygments_lexer": "ipython3",
   "version": "3.7.6"
  }
 },
 "nbformat": 4,
 "nbformat_minor": 4
}
